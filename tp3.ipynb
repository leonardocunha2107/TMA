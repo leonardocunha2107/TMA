{
 "cells": [
  {
   "cell_type": "markdown",
   "metadata": {},
   "source": [
    "## Observations préliminaires\n",
    "\n",
    "1- $\\circdot$"
   ]
  },
  {
   "cell_type": "code",
   "execution_count": 87,
   "metadata": {},
   "outputs": [
    {
     "name": "stdout",
     "output_type": "stream",
     "text": [
      "[[0.704 0.704 0.704 ... 0.704 0.704 0.64 ]\n",
      " [0.704 0.704 0.704 ... 0.704 0.704 0.64 ]\n",
      " [0.704 0.704 0.704 ... 0.704 0.704 0.64 ]\n",
      " ...\n",
      " [0.704 0.704 0.704 ... 0.704 0.704 0.64 ]\n",
      " [0.704 0.704 0.704 ... 0.704 0.704 0.64 ]\n",
      " [0.64  0.64  0.64  ... 0.64  0.64  0.64 ]]\n"
     ]
    }
   ],
   "source": [
    "import numpy as np\n",
    "import matplotlib.pyplot as plt\n",
    "K=3\n",
    "ci=np.random.uniform(low=1,high=1.5,size=K)\n",
    "ci=ci/ci.sum()\n",
    "N=100\n",
    "q=(np.ones(N)*0.8)[:,None]\n",
    "M=np.zeros((K,K))\n",
    "M=np.random.uniform(low=1,high=3,size=(K,K))\n",
    "M[np.arange(K),np.arange(K)]=np.random.uniform(low=3,high=5,size=K)\n",
    "M=(M+M.T)/2\n",
    "M=\n",
    "M[M>1.0]=1.0\n",
    "J=np.zeros((N,K))\n",
    "aux=(np.concatenate((np.array([0]),np.cumsum(ci)))*N).astype(int)\n",
    "for i in range(K):\n",
    "    J[aux[i]:aux[i+1],i]=1\n",
    "B=(q@q.T)*(1+J@M@J.T)\n",
    "print(B)\n"
   ]
  },
  {
   "cell_type": "code",
   "execution_count": 29,
   "metadata": {},
   "outputs": [
    {
     "data": {
      "text/plain": [
       "array([[0.04095002, 0.04095002, 0.04095002, ..., 0.04055546, 0.04055546,\n",
       "        0.04055546],\n",
       "       [0.04095002, 0.04095002, 0.04095002, ..., 0.04055546, 0.04055546,\n",
       "        0.04055546],\n",
       "       [0.04095002, 0.04095002, 0.04095002, ..., 0.04055546, 0.04055546,\n",
       "        0.04055546],\n",
       "       ...,\n",
       "       [0.04055546, 0.04055546, 0.04055546, ..., 0.040827  , 0.040827  ,\n",
       "        0.040827  ],\n",
       "       [0.04055546, 0.04055546, 0.04055546, ..., 0.040827  , 0.040827  ,\n",
       "        0.040827  ],\n",
       "       [0.04055546, 0.04055546, 0.04055546, ..., 0.040827  , 0.040827  ,\n",
       "        0.040827  ]])"
      ]
     },
     "execution_count": 29,
     "metadata": {},
     "output_type": "execute_result"
    }
   ],
   "source": [
    "B"
   ]
  },
  {
   "cell_type": "code",
   "execution_count": 26,
   "metadata": {},
   "outputs": [
    {
     "data": {
      "text/plain": [
       "array([[0, 0, 0, ..., 0, 0, 0],\n",
       "       [0, 0, 0, ..., 0, 0, 0],\n",
       "       [0, 0, 0, ..., 0, 0, 0],\n",
       "       ...,\n",
       "       [0, 0, 0, ..., 0, 0, 0],\n",
       "       [0, 0, 0, ..., 0, 0, 0],\n",
       "       [0, 0, 0, ..., 0, 0, 0]])"
      ]
     },
     "execution_count": 26,
     "metadata": {},
     "output_type": "execute_result"
    }
   ],
   "source": [
    "np.random.binomial(1,(q@q.T)*(J@M@J.T/np.sqrt(N)))"
   ]
  }
 ],
 "metadata": {
  "kernelspec": {
   "display_name": "Python 3",
   "language": "python",
   "name": "python3"
  },
  "language_info": {
   "codemirror_mode": {
    "name": "ipython",
    "version": 3
   },
   "file_extension": ".py",
   "mimetype": "text/x-python",
   "name": "python",
   "nbconvert_exporter": "python",
   "pygments_lexer": "ipython3",
   "version": "3.8.3"
  }
 },
 "nbformat": 4,
 "nbformat_minor": 4
}

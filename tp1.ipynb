{
 "cells": [
  {
   "cell_type": "code",
   "execution_count": 6,
   "metadata": {},
   "outputs": [
    {
     "name": "stderr",
     "output_type": "stream",
     "text": [
      "100%|██████████████████████████████████████████████████████████████████████████████████| 20/20 [13:11<00:00, 39.58s/it]\n"
     ]
    }
   ],
   "source": [
    "import numpy as np\n",
    "from scipy.linalg import eigh,sqrtm\n",
    "import matplotlib.pyplot as plt\n",
    "from tqdm import tqdm\n",
    "\n",
    "\n",
    "\n",
    "def simul_iter(N,n,var,theta):\n",
    "    u=np.random.randn(N)[:,None]\n",
    "    u=u/np.linalg.norm(u)\n",
    "    X=np.random.randn(N,n)\n",
    "    Rh=sqrtm(var*(np.eye(N)+theta*(u@(u.T))))\n",
    "    Rhx=Rh@X/np.sqrt(n)\n",
    "    emp_cov=Rhx.T@Rhx\n",
    "    return eigh(emp_cov,eigvals_only=True,subset_by_index=[n-1,n-1])\n",
    "\n",
    "var=1\n",
    "c1,theta1=2,1\n",
    "c2,theta2=2,3\n",
    "noise=0\n",
    "nmax=np.log10(2500)\n",
    "\n",
    "def simul(var,c,theta,noise):\n",
    "    vals,ns=np.zeros((20,5)),[]\n",
    "    for i,n in enumerate(tqdm(np.logspace(1,nmax,20))):\n",
    "        n=int(n)\n",
    "        ns.append(n)\n",
    "        N=int(n*c+1/n*noise)\n",
    "        for j in range(5):\n",
    "            vals[i,j]=simul_iter(N,n,var,theta)\n",
    "    return ns,vals\n",
    "\n",
    "#ns,vals1=simul(var,c1,theta1,0)\n",
    "ns,vals2=simul(var,c2,theta2,0)\n",
    "\n",
    "#if theta<=np.sqrt(c): cvg=var*((1+np.sqrt(c))**2)\n",
    "#else: cvg=var*(1+theta)*(1+c/theta)\n",
    "\n",
    "    \n"
   ]
  },
  {
   "cell_type": "code",
   "execution_count": 24,
   "metadata": {},
   "outputs": [
    {
     "data": {
      "text/plain": [
       "<matplotlib.legend.Legend at 0x1ae818d57f0>"
      ]
     },
     "execution_count": 24,
     "metadata": {},
     "output_type": "execute_result"
    },
    {
     "data": {
      "image/png": "[encoded data removed]",
      "text/plain": [
       "<Figure size 432x288 with 1 Axes>"
      ]
     },
     "metadata": {
      "needs_background": "light"
     },
     "output_type": "display_data"
    }
   ],
   "source": [
    "def lim(theta,c):\n",
    "    if theta<=np.sqrt(c): cvg=var*((1+np.sqrt(c))**2)\n",
    "    else: cvg=var*(1+theta)*(1+c/theta)\n",
    "    return cvg\n",
    "\n",
    "vals=vals1\n",
    "cvg=lim(theta1,c1)\n",
    "#label='$\\sigma^2(1+\\sqrt{c})^2$'\n",
    "#label='$\\sigma^2(1+ \\theta )(1+\\frac{c}{\\theta})$'\n",
    "label='$\\lambda_1$'\n",
    "mu=vals.mean(axis=1)\n",
    "std=vals.std(axis=1)\n",
    "\n",
    "b1,b2=mu-std,mu+std\n",
    "#b1,b2=vals.min(axis=1),vals.max(axis=1)\n",
    "\n",
    "\n",
    "\n",
    "\n",
    "\n",
    "plt.hlines(cvg,0,10**nmax+100,linestyles='dashed',label=label)\n",
    "\n",
    "plt.gca().set_xlabel('$n$')\n",
    "plt.gca().set_ylabel('$\\lambda_{\\max}$')\n",
    "\n",
    "plt.plot(ns,mu,c='b')\n",
    "plt.fill_between(ns,b1,b2,color='b',alpha=0.4)\n",
    "plt.legend()"
   ]
  }
 ],
 "metadata": {
  "kernelspec": {
   "display_name": "Python 3",
   "language": "python",
   "name": "python3"
  },
  "language_info": {
   "codemirror_mode": {
    "name": "ipython",
    "version": 3
   },
   "file_extension": ".py",
   "mimetype": "text/x-python",
   "name": "python",
   "nbconvert_exporter": "python",
   "pygments_lexer": "ipython3",
   "version": "3.8.3"
  }
 },
 "nbformat": 4,
 "nbformat_minor": 4
}
